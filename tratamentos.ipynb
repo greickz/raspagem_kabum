{
 "cells": [
  {
   "cell_type": "markdown",
   "metadata": {},
   "source": [
    "Tratamento números"
   ]
  },
  {
   "cell_type": "code",
   "execution_count": 3,
   "metadata": {},
   "outputs": [
    {
     "name": "stdout",
     "output_type": "stream",
     "text": [
      "Arquivo processado com sucesso!\n"
     ]
    }
   ],
   "source": [
    "import pandas as pd\n",
    "df = pd.read_excel('consoles.xlsx')\n",
    "def limpar_preco(valor):\n",
    "    if pd.isna(valor):\n",
    "        return ''\n",
    "    valor = str(valor)\n",
    "    valor = valor.replace('\\xa0', '')\n",
    "    valor = valor.replace('R$', '')\n",
    "    valor = valor.replace('.', '')\n",
    "    valor = valor.replace(',', '.')\n",
    "    valor = valor.strip()\n",
    "    try:\n",
    "        return f\"{float(valor):.2f}\"\n",
    "    except ValueError:\n",
    "        print(\"Erro ao converter:\", valor)\n",
    "        return ''\n",
    "df['preco'] = df['preco'].apply(limpar_preco)\n",
    "df.to_excel('console_tratado.xlsx', index=False)\n",
    "print(\"Arquivo processado com sucesso!\")"
   ]
  },
  {
   "cell_type": "markdown",
   "metadata": {},
   "source": []
  },
  {
   "cell_type": "code",
   "execution_count": null,
   "metadata": {},
   "outputs": [],
   "source": []
  }
 ],
 "metadata": {
  "kernelspec": {
   "display_name": "Python 3",
   "language": "python",
   "name": "python3"
  },
  "language_info": {
   "codemirror_mode": {
    "name": "ipython",
    "version": 3
   },
   "file_extension": ".py",
   "mimetype": "text/x-python",
   "name": "python",
   "nbconvert_exporter": "python",
   "pygments_lexer": "ipython3",
   "version": "3.12.1"
  }
 },
 "nbformat": 4,
 "nbformat_minor": 2
}
