{
 "cells": [
  {
   "cell_type": "markdown",
   "metadata": {},
   "source": [
    "Tratamento números"
   ]
  },
  {
   "cell_type": "code",
   "execution_count": 27,
   "metadata": {},
   "outputs": [
    {
     "name": "stderr",
     "output_type": "stream",
     "text": [
      "<>:8: SyntaxWarning: invalid escape sequence '\\$'\n",
      "<>:8: SyntaxWarning: invalid escape sequence '\\$'\n",
      "C:\\Users\\Jonas Greick\\AppData\\Local\\Temp\\ipykernel_3916\\478989910.py:8: SyntaxWarning: invalid escape sequence '\\$'\n",
      "  .str.replace('R\\$', '', regex=True)\n"
     ]
    }
   ],
   "source": [
    "import pandas as pd\n",
    "import re\n",
    "\n",
    "df = pd.read_excel(\"consoles.xlsx\")\n",
    "\n",
    "df['preco'] = (\n",
    "    df['preco']\n",
    "    .str.replace('R\\$', '', regex=True)\n",
    "    .str.replace('.', '', regex=False)\n",
    "    .str.replace(',', '.', regex=False)\n",
    "    .astype(float)\n",
    ")\n",
    "\n",
    "def extrair_qtd_parcelas(texto):\n",
    "    if pd.isna(texto):\n",
    "        return None\n",
    "    match = re.search(r'(\\d+)x', str(texto))\n",
    "    if match:\n",
    "        parcelas = int(match.group(1))\n",
    "        if \"pix\" in str(texto).lower():\n",
    "            return f\"{parcelas}x no Pix\"\n",
    "        else:\n",
    "            return f\"{parcelas}x no Cartão\"\n",
    "    return None\n",
    "\n",
    "def extrair_parcela(texto):\n",
    "    if pd.isna(texto):\n",
    "        return None\n",
    "    match = re.search(r'R\\$ ([\\d\\.,]+)', str(texto))\n",
    "    if match:\n",
    "        valor = match.group(1).replace('.', '').replace(',', '.')\n",
    "        return float(valor)\n",
    "    return None\n",
    "\n",
    "df['qtd_parcelas'] = df['parcela'].apply(extrair_qtd_parcelas)\n",
    "df['valor_parcela'] = df['parcela'].apply(extrair_parcela)\n",
    "\n",
    "\n",
    "\n",
    "def detectar_marca(titulo):\n",
    "    titulo = str(titulo).lower()\n",
    "    if \"playstation\" in titulo:\n",
    "        return \"PlayStation\"\n",
    "    elif \"nintendo\" in titulo:\n",
    "        return \"Nintendo\"\n",
    "    elif \"xbox\" in titulo:\n",
    "        return \"Xbox\"\n",
    "    else:\n",
    "        return \"Outros\"\n",
    "\n",
    "df['titulo'] = df['titulo'].str.title()\n",
    "def faixa_preco(preco):\n",
    "    if preco < 2000:\n",
    "        return \"Barato\"\n",
    "    elif preco < 4000:\n",
    "        return \"Médio\"\n",
    "    else:\n",
    "        return \"Caro\"\n",
    "\n",
    "df['faixa_preco'] = df['preco'].apply(faixa_preco)\n",
    "def edicao_especial(titulo):\n",
    "    titulo = str(titulo).lower()\n",
    "    return \"edição especial\" in titulo or \"bundle\" in titulo\n",
    "\n",
    "df['edicao_especial'] = df['titulo'].apply(edicao_especial)\n",
    "df = df.drop(columns=['parcela'])\n",
    "\n",
    "df.to_excel(\"consoles_tratado_completo.xlsx\", index=False)\n"
   ]
  },
  {
   "cell_type": "markdown",
   "metadata": {},
   "source": []
  },
  {
   "cell_type": "code",
   "execution_count": null,
   "metadata": {},
   "outputs": [],
   "source": []
  }
 ],
 "metadata": {
  "kernelspec": {
   "display_name": "Python 3",
   "language": "python",
   "name": "python3"
  },
  "language_info": {
   "codemirror_mode": {
    "name": "ipython",
    "version": 3
   },
   "file_extension": ".py",
   "mimetype": "text/x-python",
   "name": "python",
   "nbconvert_exporter": "python",
   "pygments_lexer": "ipython3",
   "version": "3.13.3"
  }
 },
 "nbformat": 4,
 "nbformat_minor": 2
}
